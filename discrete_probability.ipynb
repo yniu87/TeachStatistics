{
  "nbformat": 4,
  "nbformat_minor": 0,
  "metadata": {
    "kernelspec": {
      "display_name": "Python 3",
      "language": "python",
      "name": "python3"
    },
    "language_info": {
      "codemirror_mode": {
        "name": "ipython",
        "version": 3
      },
      "file_extension": ".py",
      "mimetype": "text/x-python",
      "name": "python",
      "nbconvert_exporter": "python",
      "pygments_lexer": "ipython3",
      "version": "3.7.3"
    },
    "colab": {
      "name": "discrete_probability.ipynb",
      "provenance": [],
      "include_colab_link": true
    }
  },
  "cells": [
    {
      "cell_type": "markdown",
      "metadata": {
        "id": "view-in-github",
        "colab_type": "text"
      },
      "source": [
        "<a href=\"https://colab.research.google.com/github/yniu87/TeachStatistics/blob/master/discrete_probability.ipynb\" target=\"_parent\"><img src=\"https://colab.research.google.com/assets/colab-badge.svg\" alt=\"Open In Colab\"/></a>"
      ]
    },
    {
      "cell_type": "code",
      "metadata": {
        "id": "iA8HO31YdyY_",
        "colab_type": "code",
        "colab": {}
      },
      "source": [
        "import numpy as np\n",
        "import pandas as pd\n",
        "from scipy.stats import binom\n",
        "import seaborn as sb\n",
        "import matplotlib.pyplot as plt\n",
        "%matplotlib inline "
      ],
      "execution_count": 0,
      "outputs": []
    },
    {
      "cell_type": "markdown",
      "metadata": {
        "id": "0kI-w_HwdyZM",
        "colab_type": "text"
      },
      "source": [
        "# Discrete Uniform Distribution\n",
        "## Example: rolling a die "
      ]
    },
    {
      "cell_type": "code",
      "metadata": {
        "id": "twJKJ3osdyZO",
        "colab_type": "code",
        "colab": {}
      },
      "source": [
        "# choose the sample size here\n",
        "size = 1000"
      ],
      "execution_count": 0,
      "outputs": []
    },
    {
      "cell_type": "code",
      "metadata": {
        "id": "mm_KvFijdyZW",
        "colab_type": "code",
        "colab": {}
      },
      "source": [
        "sample = np.random.randint(1, high=7, size=size)"
      ],
      "execution_count": 0,
      "outputs": []
    },
    {
      "cell_type": "code",
      "metadata": {
        "id": "OOaTiiw-dyZa",
        "colab_type": "code",
        "colab": {}
      },
      "source": [
        "unique, counts = np.unique(sample, return_counts=True)"
      ],
      "execution_count": 0,
      "outputs": []
    },
    {
      "cell_type": "code",
      "metadata": {
        "id": "B0x7Y56bdyZh",
        "colab_type": "code",
        "colab": {}
      },
      "source": [
        "# plt.bar(unique, counts)\n",
        "# plt.title('Frequency Count of Die Rolling')\n",
        "# plt.show()"
      ],
      "execution_count": 0,
      "outputs": []
    },
    {
      "cell_type": "code",
      "metadata": {
        "scrolled": true,
        "id": "7wNf6aTHdyZn",
        "colab_type": "code",
        "colab": {
          "base_uri": "https://localhost:8080/",
          "height": 281
        },
        "outputId": "3a51fa59-f5c4-4123-c286-b41ae4461dd3"
      },
      "source": [
        "plt.bar(unique, counts/size)\n",
        "plt.plot(unique, 1/6*np.ones(len(unique)),color='red')\n",
        "plt.title('Probability Distribution of Die Rolling')\n",
        "plt.show()"
      ],
      "execution_count": 6,
      "outputs": [
        {
          "output_type": "display_data",
          "data": {
            "image/png": "[encoded data removed]",
            "text/plain": [
              "<Figure size 432x288 with 1 Axes>"
            ]
          },
          "metadata": {
            "tags": []
          }
        }
      ]
    },
    {
      "cell_type": "markdown",
      "metadata": {
        "id": "JPvCFYDedyZ0",
        "colab_type": "text"
      },
      "source": [
        "# Binomial Distribution\n",
        "## Example: Coin Flipping, 12 times, number of heads"
      ]
    },
    {
      "cell_type": "code",
      "metadata": {
        "id": "_LJD_J0QdyZ2",
        "colab_type": "code",
        "colab": {}
      },
      "source": [
        "n = 12     # number of trials\n",
        "p = 0.5      # probability of getting head for each trial"
      ],
      "execution_count": 0,
      "outputs": []
    },
    {
      "cell_type": "code",
      "metadata": {
        "id": "uv2zNEhodyZ7",
        "colab_type": "code",
        "colab": {}
      },
      "source": [
        "# sample = np.random.binomial(n, p, 1)"
      ],
      "execution_count": 0,
      "outputs": []
    },
    {
      "cell_type": "code",
      "metadata": {
        "id": "QuZCqIiwdyZ9",
        "colab_type": "code",
        "colab": {
          "base_uri": "https://localhost:8080/",
          "height": 300
        },
        "outputId": "d88d40d3-4aab-465c-d8f5-46393f7d0c4a"
      },
      "source": [
        "data_binom = binom.rvs(n=n,p=p,size=1000)\n",
        "ax = sb.distplot(data_binom, color='blue') #,hist_kws={'linewidth': 25,'alpha':1}\n",
        "ax.set(xlabel='Binomial', ylabel='Frequency')"
      ],
      "execution_count": 9,
      "outputs": [
        {
          "output_type": "execute_result",
          "data": {
            "text/plain": [
              "[Text(0, 0.5, 'Frequency'), Text(0.5, 0, 'Binomial')]"
            ]
          },
          "metadata": {
            "tags": []
          },
          "execution_count": 9
        },
        {
          "output_type": "display_data",
          "data": {
            "image/png": "[encoded data removed]",
            "text/plain": [
              "<Figure size 432x288 with 1 Axes>"
            ]
          },
          "metadata": {
            "tags": []
          }
        }
      ]
    },
    {
      "cell_type": "markdown",
      "metadata": {
        "id": "jhwa9W4ZdyaA",
        "colab_type": "text"
      },
      "source": [
        "# Poisson Distribution\n",
        "## number of weekly car accidents"
      ]
    },
    {
      "cell_type": "code",
      "metadata": {
        "id": "IFxH4zfOdyaB",
        "colab_type": "code",
        "colab": {}
      },
      "source": [
        "lmd = 5   # expected value of occurrences in an interval\n",
        "size = 1000  # sample size"
      ],
      "execution_count": 0,
      "outputs": []
    },
    {
      "cell_type": "code",
      "metadata": {
        "id": "s4GhBBAMdyaF",
        "colab_type": "code",
        "colab": {}
      },
      "source": [
        "sample = np.random.poisson(lmd, size)"
      ],
      "execution_count": 0,
      "outputs": []
    },
    {
      "cell_type": "code",
      "metadata": {
        "id": "at2DNQQWdyaJ",
        "colab_type": "code",
        "colab": {}
      },
      "source": [
        "unique, counts = np.unique(sample, return_counts=True)"
      ],
      "execution_count": 0,
      "outputs": []
    },
    {
      "cell_type": "code",
      "metadata": {
        "id": "GrZ8M_vxdyaN",
        "colab_type": "code",
        "colab": {
          "base_uri": "https://localhost:8080/",
          "height": 281
        },
        "outputId": "910a72d4-567e-427b-b026-26e86e561ad0"
      },
      "source": [
        "plt.bar(unique, counts/size)\n",
        "plt.title('Probability Distribution of  Poisson Distribution')\n",
        "plt.show()"
      ],
      "execution_count": 13,
      "outputs": [
        {
          "output_type": "display_data",
          "data": {
            "image/png": "[encoded data removed]",
            "text/plain": [
              "<Figure size 432x288 with 1 Axes>"
            ]
          },
          "metadata": {
            "tags": []
          }
        }
      ]
    },
    {
      "cell_type": "markdown",
      "metadata": {
        "id": "j4bD1bQBdyaT",
        "colab_type": "text"
      },
      "source": [
        "## what's f(6)?"
      ]
    },
    {
      "cell_type": "code",
      "metadata": {
        "id": "mHnLj1M3dyaV",
        "colab_type": "code",
        "colab": {}
      },
      "source": [
        ""
      ],
      "execution_count": 0,
      "outputs": []
    }
  ]
}