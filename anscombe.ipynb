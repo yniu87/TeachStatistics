{
  "nbformat": 4,
  "nbformat_minor": 0,
  "metadata": {
    "kernelspec": {
      "display_name": "Python 3",
      "language": "python",
      "name": "python3"
    },
    "language_info": {
      "codemirror_mode": {
        "name": "ipython",
        "version": 3
      },
      "file_extension": ".py",
      "mimetype": "text/x-python",
      "name": "python",
      "nbconvert_exporter": "python",
      "pygments_lexer": "ipython3",
      "version": "3.6.8"
    },
    "colab": {
      "name": "anscombe.ipynb",
      "version": "0.3.2",
      "provenance": [],
      "include_colab_link": true
    }
  },
  "cells": [
    {
      "cell_type": "markdown",
      "metadata": {
        "id": "view-in-github",
        "colab_type": "text"
      },
      "source": [
        "<a href=\"https://colab.research.google.com/github/yniu87/teach_stat/blob/master/anscombe.ipynb\" target=\"_parent\"><img src=\"https://colab.research.google.com/assets/colab-badge.svg\" alt=\"Open In Colab\"/></a>"
      ]
    },
    {
      "cell_type": "code",
      "metadata": {
        "id": "B3XLJ-EIgEUU",
        "colab_type": "code",
        "colab": {}
      },
      "source": [
        "%matplotlib inline"
      ],
      "execution_count": 0,
      "outputs": []
    },
    {
      "cell_type": "markdown",
      "metadata": {
        "id": "34tT3Mq1gEUa",
        "colab_type": "text"
      },
      "source": [
        "\n",
        "==================\n",
        "Anscombe's Quartet\n",
        "==================\n",
        "\n",
        "\n"
      ]
    },
    {
      "cell_type": "code",
      "metadata": {
        "id": "to9RadEfgEUb",
        "colab_type": "code",
        "colab": {
          "base_uri": "https://localhost:8080/",
          "height": 337
        },
        "outputId": "df50daa4-4209-4384-dbd2-b825102a90cb"
      },
      "source": [
        "\"\"\"\n",
        "Edward Tufte uses this example from Anscombe to show 4 datasets of x\n",
        "and y that have the same mean, standard deviation, and regression\n",
        "line, but which are qualitatively different.\n",
        "\"\"\"\n",
        "\n",
        "import matplotlib.pyplot as plt\n",
        "import numpy as np\n",
        "\n",
        "x = [10, 8, 13, 9, 11, 14, 6, 4, 12, 7, 5]\n",
        "y1 = [8.04, 6.95, 7.58, 8.81, 8.33, 9.96, 7.24, 4.26, 10.84, 4.82, 5.68]\n",
        "y2 = [9.14, 8.14, 8.74, 8.77, 9.26, 8.10, 6.13, 3.10, 9.13, 7.26, 4.74]\n",
        "y3 = [7.46, 6.77, 12.74, 7.11, 7.81, 8.84, 6.08, 5.39, 8.15, 6.42, 5.73]\n",
        "x4 = [8, 8, 8, 8, 8, 8, 8, 19, 8, 8, 8]\n",
        "y4 = [6.58, 5.76, 7.71, 8.84, 8.47, 7.04, 5.25, 12.50, 5.56, 7.91, 6.89]\n",
        "\n",
        "\n",
        "def fit(x):\n",
        "    return 3 + 0.5 * x\n",
        "\n",
        "\n",
        "fig, axs = plt.subplots(2, 2, sharex=True, sharey=True)\n",
        "axs[0, 0].set(xlim=(0, 20), ylim=(2, 14))\n",
        "axs[0, 0].set(xticks=(0, 10, 20), yticks=(4, 8, 12))\n",
        "\n",
        "xfit = np.array([np.min(x), np.max(x)])\n",
        "axs[0, 0].plot(x, y1, 'ks', xfit, fit(xfit), 'r-', lw=2)\n",
        "axs[0, 1].plot(x, y2, 'ks', xfit, fit(xfit), 'r-', lw=2)\n",
        "axs[1, 0].plot(x, y3, 'ks', xfit, fit(xfit), 'r-', lw=2)\n",
        "xfit = np.array([np.min(x4), np.max(x4)])\n",
        "axs[1, 1].plot(x4, y4, 'ks', xfit, fit(xfit), 'r-', lw=2)\n",
        "\n",
        "for ax, label in zip(axs.flat, ['I', 'II', 'III', 'IV']):\n",
        "    ax.label_outer()\n",
        "    ax.text(3, 12, label, fontsize=20)\n",
        "\n",
        "# verify the stats\n",
        "pairs = (x, y1), (x, y2), (x, y3), (x4, y4)\n",
        "for x, y in pairs:\n",
        "    print('mean=%1.2f, std=%1.2f, r=%1.2f' % (np.mean(y), np.std(y),\n",
        "          np.corrcoef(x, y)[0][1]))\n",
        "\n",
        "plt.show()"
      ],
      "execution_count": 1,
      "outputs": [
        {
          "output_type": "stream",
          "text": [
            "mean=7.50, std=1.94, r=0.82\n",
            "mean=7.50, std=1.94, r=0.82\n",
            "mean=7.50, std=1.94, r=0.82\n",
            "mean=7.50, std=1.94, r=0.82\n"
          ],
          "name": "stdout"
        },
        {
          "output_type": "display_data",
          "data": {
            "image/png": "[encoded data removed]",
            "text/plain": [
              "<Figure size 432x288 with 4 Axes>"
            ]
          },
          "metadata": {
            "tags": []
          }
        }
      ]
    }
  ]
}