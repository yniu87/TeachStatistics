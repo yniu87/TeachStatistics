{
  "cells": [
    {
      "cell_type": "code",
      "execution_count": null,
      "metadata": {
        "collapsed": false
      },
      "outputs": [],
      "source": [
        "%matplotlib inline"
      ]
    },
    {
      "cell_type": "markdown",
      "metadata": {},
      "source": [
        "\n==================\nAnscombe's Quartet\n==================\n\n\n"
      ]
    },
    {
      "cell_type": "code",
      "execution_count": null,
      "metadata": {
        "collapsed": false
      },
      "outputs": [],
      "source": [
        "\"\"\"\nEdward Tufte uses this example from Anscombe to show 4 datasets of x\nand y that have the same mean, standard deviation, and regression\nline, but which are qualitatively different.\n\"\"\"\n\nimport matplotlib.pyplot as plt\nimport numpy as np\n\nx = [10, 8, 13, 9, 11, 14, 6, 4, 12, 7, 5]\ny1 = [8.04, 6.95, 7.58, 8.81, 8.33, 9.96, 7.24, 4.26, 10.84, 4.82, 5.68]\ny2 = [9.14, 8.14, 8.74, 8.77, 9.26, 8.10, 6.13, 3.10, 9.13, 7.26, 4.74]\ny3 = [7.46, 6.77, 12.74, 7.11, 7.81, 8.84, 6.08, 5.39, 8.15, 6.42, 5.73]\nx4 = [8, 8, 8, 8, 8, 8, 8, 19, 8, 8, 8]\ny4 = [6.58, 5.76, 7.71, 8.84, 8.47, 7.04, 5.25, 12.50, 5.56, 7.91, 6.89]\n\n\ndef fit(x):\n    return 3 + 0.5 * x\n\n\nfig, axs = plt.subplots(2, 2, sharex=True, sharey=True)\naxs[0, 0].set(xlim=(0, 20), ylim=(2, 14))\naxs[0, 0].set(xticks=(0, 10, 20), yticks=(4, 8, 12))\n\nxfit = np.array([np.min(x), np.max(x)])\naxs[0, 0].plot(x, y1, 'ks', xfit, fit(xfit), 'r-', lw=2)\naxs[0, 1].plot(x, y2, 'ks', xfit, fit(xfit), 'r-', lw=2)\naxs[1, 0].plot(x, y3, 'ks', xfit, fit(xfit), 'r-', lw=2)\nxfit = np.array([np.min(x4), np.max(x4)])\naxs[1, 1].plot(x4, y4, 'ks', xfit, fit(xfit), 'r-', lw=2)\n\nfor ax, label in zip(axs.flat, ['I', 'II', 'III', 'IV']):\n    ax.label_outer()\n    ax.text(3, 12, label, fontsize=20)\n\n# verify the stats\npairs = (x, y1), (x, y2), (x, y3), (x4, y4)\nfor x, y in pairs:\n    print('mean=%1.2f, std=%1.2f, r=%1.2f' % (np.mean(y), np.std(y),\n          np.corrcoef(x, y)[0][1]))\n\nplt.show()"
      ]
    }
  ],
  "metadata": {
    "kernelspec": {
      "display_name": "Python 3",
      "language": "python",
      "name": "python3"
    },
    "language_info": {
      "codemirror_mode": {
        "name": "ipython",
        "version": 3
      },
      "file_extension": ".py",
      "mimetype": "text/x-python",
      "name": "python",
      "nbconvert_exporter": "python",
      "pygments_lexer": "ipython3",
      "version": "3.6.8"
    }
  },
  "nbformat": 4,
  "nbformat_minor": 0
}