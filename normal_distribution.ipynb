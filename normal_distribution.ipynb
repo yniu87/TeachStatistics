import numpy as np 
import matplotlib.pyplot as plt

MEAN = 10
SD = 1 

sample = np.random.normal(loc = MEAN, scale = SD, size = 1000)

plt.hist(sample, bins='auto') 

plt.show()
