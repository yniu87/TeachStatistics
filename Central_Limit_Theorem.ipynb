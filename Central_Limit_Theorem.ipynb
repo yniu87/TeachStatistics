{
  "nbformat": 4,
  "nbformat_minor": 0,
  "metadata": {
    "kernelspec": {
      "display_name": "Python 3",
      "language": "python",
      "name": "python3"
    },
    "language_info": {
      "codemirror_mode": {
        "name": "ipython",
        "version": 3
      },
      "file_extension": ".py",
      "mimetype": "text/x-python",
      "name": "python",
      "nbconvert_exporter": "python",
      "pygments_lexer": "ipython3",
      "version": "3.7.3"
    },
    "colab": {
      "name": "Central_Limit_Theorem.ipynb",
      "provenance": [],
      "include_colab_link": true
    }
  },
  "cells": [
    {
      "cell_type": "markdown",
      "metadata": {
        "id": "view-in-github",
        "colab_type": "text"
      },
      "source": [
        "<a href=\"https://colab.research.google.com/github/yniu87/TeachStatistics/blob/master/Central_Limit_Theorem.ipynb\" target=\"_parent\"><img src=\"https://colab.research.google.com/assets/colab-badge.svg\" alt=\"Open In Colab\"/></a>"
      ]
    },
    {
      "cell_type": "code",
      "metadata": {
        "id": "NgQ7nam0hW8f",
        "colab_type": "code",
        "colab": {}
      },
      "source": [
        "import math\n",
        "import pandas as pd\n",
        "import matplotlib.pyplot as plt\n",
        "%matplotlib inline"
      ],
      "execution_count": 0,
      "outputs": []
    },
    {
      "cell_type": "markdown",
      "metadata": {
        "id": "R-vsthSlhW8o",
        "colab_type": "text"
      },
      "source": [
        "# Example: Binomial\n",
        "## Consider the purchase decision of the three customers who buy pupusas at Girasol.  \n",
        "## Again, the probability that a customer orders cheese pupusas is 0.30."
      ]
    },
    {
      "cell_type": "code",
      "metadata": {
        "id": "pcBIwtPDhW8q",
        "colab_type": "code",
        "colab": {}
      },
      "source": [
        "n = 3\n",
        "p = 0.3"
      ],
      "execution_count": 0,
      "outputs": []
    },
    {
      "cell_type": "code",
      "metadata": {
        "id": "F3TybxMFhW8v",
        "colab_type": "code",
        "colab": {}
      },
      "source": [
        "def binomial_fun(n, r, p):\n",
        "    prob = math.factorial(n)/(math.factorial(r)*math.factorial(n-r))*(p)**(r)*(1-p)**(n-r)\n",
        "    return prob"
      ],
      "execution_count": 0,
      "outputs": []
    },
    {
      "cell_type": "code",
      "metadata": {
        "id": "KwdFfBKohW8x",
        "colab_type": "code",
        "colab": {
          "base_uri": "https://localhost:8080/",
          "height": 34
        },
        "outputId": "0158ca1b-309a-43b9-9a06-c7207827fc27"
      },
      "source": [
        "binomial_fun(n, 0, p)"
      ],
      "execution_count": 4,
      "outputs": [
        {
          "output_type": "execute_result",
          "data": {
            "text/plain": [
              "0.3429999999999999"
            ]
          },
          "metadata": {
            "tags": []
          },
          "execution_count": 4
        }
      ]
    },
    {
      "cell_type": "code",
      "metadata": {
        "id": "J0GapNwAhW81",
        "colab_type": "code",
        "colab": {}
      },
      "source": [
        "variable_list = []\n",
        "prob_list = []\n",
        "for r in range(n+1):\n",
        "    variable_list.append(r)\n",
        "    prob_list.append(binomial_fun(n, r, p))"
      ],
      "execution_count": 0,
      "outputs": []
    },
    {
      "cell_type": "code",
      "metadata": {
        "id": "qvJ6muxEhW84",
        "colab_type": "code",
        "colab": {
          "base_uri": "https://localhost:8080/",
          "height": 269
        },
        "outputId": "b48ca7dc-47a4-4c2c-9c98-ed5c5ec44630"
      },
      "source": [
        "plt.bar(variable_list, prob_list)\n",
        "plt.xticks(variable_list)\n",
        "plt.show()"
      ],
      "execution_count": 6,
      "outputs": [
        {
          "output_type": "display_data",
          "data": {
            "image/png": "[encoded data removed]",
            "text/plain": [
              "<Figure size 432x288 with 1 Axes>"
            ]
          },
          "metadata": {
            "tags": []
          }
        }
      ]
    },
    {
      "cell_type": "markdown",
      "metadata": {
        "id": "vdH5PRjbhW89",
        "colab_type": "text"
      },
      "source": [
        "# Example: Poisson Distribution \n",
        "## Consider Quincy’s Café, where 10 people arrive during a 15-minute period.\n",
        "## What is the probability of 5 arrivals in 15 minutes?"
      ]
    },
    {
      "cell_type": "code",
      "metadata": {
        "id": "pvRPnoU3hW8-",
        "colab_type": "code",
        "colab": {}
      },
      "source": [
        "def poisson_fun(lam, x):\n",
        "    prob = lam**(x)/(math.factorial(x))*math.e**(-lam)\n",
        "    return prob"
      ],
      "execution_count": 0,
      "outputs": []
    },
    {
      "cell_type": "code",
      "metadata": {
        "id": "syoQ3jHOhW9B",
        "colab_type": "code",
        "colab": {}
      },
      "source": [
        "lam = 10"
      ],
      "execution_count": 0,
      "outputs": []
    },
    {
      "cell_type": "code",
      "metadata": {
        "id": "HBbbJFhchW9F",
        "colab_type": "code",
        "colab": {
          "base_uri": "https://localhost:8080/",
          "height": 34
        },
        "outputId": "cfe251a1-2b43-446f-9386-6ac910e52d60"
      },
      "source": [
        "poisson_fun(lam, 5)"
      ],
      "execution_count": 9,
      "outputs": [
        {
          "output_type": "execute_result",
          "data": {
            "text/plain": [
              "0.03783327480207073"
            ]
          },
          "metadata": {
            "tags": []
          },
          "execution_count": 9
        }
      ]
    },
    {
      "cell_type": "code",
      "metadata": {
        "id": "GhBjxSYwhW9I",
        "colab_type": "code",
        "colab": {}
      },
      "source": [
        "variable_list = []\n",
        "prob_list = []\n",
        "for x in range(6):\n",
        "    variable_list.append(x)\n",
        "    prob_list.append(poisson_fun(lam, x))"
      ],
      "execution_count": 0,
      "outputs": []
    },
    {
      "cell_type": "code",
      "metadata": {
        "id": "OrE7VzVKhW9M",
        "colab_type": "code",
        "colab": {
          "base_uri": "https://localhost:8080/",
          "height": 269
        },
        "outputId": "282bc745-d243-4105-facd-707fea9e38fe"
      },
      "source": [
        "plt.bar(variable_list, prob_list)\n",
        "plt.xticks(variable_list)\n",
        "plt.show()"
      ],
      "execution_count": 15,
      "outputs": [
        {
          "output_type": "display_data",
          "data": {
            "image/png": "[encoded data removed]",
            "text/plain": [
              "<Figure size 432x288 with 1 Axes>"
            ]
          },
          "metadata": {
            "tags": []
          }
        }
      ]
    },
    {
      "cell_type": "code",
      "metadata": {
        "id": "yZYkiNvUhW9R",
        "colab_type": "code",
        "colab": {}
      },
      "source": [
        ""
      ],
      "execution_count": 0,
      "outputs": []
    }
  ]
}